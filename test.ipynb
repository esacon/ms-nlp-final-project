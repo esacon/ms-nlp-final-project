{
 "cells": [
  {
   "cell_type": "code",
   "execution_count": 3,
   "metadata": {},
   "outputs": [
    {
     "data": {
      "text/html": [
       "<div>\n",
       "<style scoped>\n",
       "    .dataframe tbody tr th:only-of-type {\n",
       "        vertical-align: middle;\n",
       "    }\n",
       "\n",
       "    .dataframe tbody tr th {\n",
       "        vertical-align: top;\n",
       "    }\n",
       "\n",
       "    .dataframe thead th {\n",
       "        text-align: right;\n",
       "    }\n",
       "</style>\n",
       "<table border=\"1\" class=\"dataframe\">\n",
       "  <thead>\n",
       "    <tr style=\"text-align: right;\">\n",
       "      <th></th>\n",
       "      <th>article_id</th>\n",
       "      <th>entity_mention</th>\n",
       "      <th>start_index</th>\n",
       "      <th>end_index</th>\n",
       "      <th>main_role</th>\n",
       "      <th>fine_roles</th>\n",
       "    </tr>\n",
       "  </thead>\n",
       "  <tbody>\n",
       "    <tr>\n",
       "      <th>EN_CC_100013.txt</th>\n",
       "      <td>Bill Gates</td>\n",
       "      <td>93</td>\n",
       "      <td>102</td>\n",
       "      <td>Antagonist</td>\n",
       "      <td>Deceiver</td>\n",
       "      <td>Corrupt</td>\n",
       "    </tr>\n",
       "    <tr>\n",
       "      <th>EN_CC_100013.txt</th>\n",
       "      <td>BBC</td>\n",
       "      <td>1860</td>\n",
       "      <td>1862</td>\n",
       "      <td>Antagonist</td>\n",
       "      <td>Deceiver</td>\n",
       "      <td>NaN</td>\n",
       "    </tr>\n",
       "    <tr>\n",
       "      <th>EN_CC_100013.txt</th>\n",
       "      <td>Jeffrey Epstein</td>\n",
       "      <td>2005</td>\n",
       "      <td>2019</td>\n",
       "      <td>Antagonist</td>\n",
       "      <td>Corrupt</td>\n",
       "      <td>NaN</td>\n",
       "    </tr>\n",
       "    <tr>\n",
       "      <th>EN_UA_300009.txt</th>\n",
       "      <td>Fail Alsynov</td>\n",
       "      <td>176</td>\n",
       "      <td>187</td>\n",
       "      <td>Protagonist</td>\n",
       "      <td>Rebel</td>\n",
       "      <td>Martyr</td>\n",
       "    </tr>\n",
       "    <tr>\n",
       "      <th>EN_UA_300009.txt</th>\n",
       "      <td>Bashkir people</td>\n",
       "      <td>1616</td>\n",
       "      <td>1629</td>\n",
       "      <td>Innocent</td>\n",
       "      <td>Victim</td>\n",
       "      <td>NaN</td>\n",
       "    </tr>\n",
       "  </tbody>\n",
       "</table>\n",
       "</div>"
      ],
      "text/plain": [
       "                       article_id  entity_mention  start_index    end_index  \\\n",
       "EN_CC_100013.txt       Bill Gates              93          102   Antagonist   \n",
       "EN_CC_100013.txt              BBC            1860         1862   Antagonist   \n",
       "EN_CC_100013.txt  Jeffrey Epstein            2005         2019   Antagonist   \n",
       "EN_UA_300009.txt     Fail Alsynov             176          187  Protagonist   \n",
       "EN_UA_300009.txt   Bashkir people            1616         1629     Innocent   \n",
       "\n",
       "                 main_role fine_roles  \n",
       "EN_CC_100013.txt  Deceiver    Corrupt  \n",
       "EN_CC_100013.txt  Deceiver        NaN  \n",
       "EN_CC_100013.txt   Corrupt        NaN  \n",
       "EN_UA_300009.txt     Rebel     Martyr  \n",
       "EN_UA_300009.txt    Victim        NaN  "
      ]
     },
     "execution_count": 3,
     "metadata": {},
     "output_type": "execute_result"
    }
   ],
   "source": [
    "import pandas as pd\n",
    "\n",
    "df = pd.read_csv('data/train/EN/subtask-1-annotations.txt', sep='\\t', header=None, names=[\"article_id\", \"entity_mention\", \"start_index\", \"end_index\", \"main_role\", \"fine_roles\"])\n",
    "\n",
    "df.head()"
   ]
  },
  {
   "cell_type": "code",
   "execution_count": 5,
   "metadata": {},
   "outputs": [
    {
     "data": {
      "text/plain": [
       "Index(['EN_CC_100013.txt', 'EN_UA_300009.txt', 'EN_CC_100005.txt',\n",
       "       'EN_UA_014637.txt', 'EN_UA_019640.txt', 'EN_UA_022051.txt',\n",
       "       'EN_UA_004616.txt', 'EN_UA_300153.txt', 'EN_UA_024321.txt',\n",
       "       'EN_UA_000923.txt',\n",
       "       ...\n",
       "       'EN_CC_200016.txt', 'EN_UA_011260.txt', 'EN_UA_300053.txt',\n",
       "       'EN_UA_300010.txt', 'EN_CC_200101.txt', 'EN_CC_200144.txt',\n",
       "       'EN_UA_300132.txt', 'EN_CC_200022.txt', 'EN_UA_013257.txt',\n",
       "       'EN_UA_000104.txt'],\n",
       "      dtype='object', length=202)"
      ]
     },
     "execution_count": 5,
     "metadata": {},
     "output_type": "execute_result"
    }
   ],
   "source": [
    "df.index.unique()"
   ]
  },
  {
   "cell_type": "code",
   "execution_count": null,
   "metadata": {},
   "outputs": [],
   "source": []
  }
 ],
 "metadata": {
  "kernelspec": {
   "display_name": "Python 3",
   "language": "python",
   "name": "python3"
  },
  "language_info": {
   "codemirror_mode": {
    "name": "ipython",
    "version": 3
   },
   "file_extension": ".py",
   "mimetype": "text/x-python",
   "name": "python",
   "nbconvert_exporter": "python",
   "pygments_lexer": "ipython3",
   "version": "3.11.9"
  }
 },
 "nbformat": 4,
 "nbformat_minor": 2
}
